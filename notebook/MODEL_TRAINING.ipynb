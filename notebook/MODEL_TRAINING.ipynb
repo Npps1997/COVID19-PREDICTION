{
  "cells": [
    {
      "cell_type": "markdown",
      "metadata": {
        "id": "45kZQZEL9j2f"
      },
      "source": [
        "## Model Training"
      ]
    },
    {
      "cell_type": "markdown",
      "metadata": {
        "id": "zw1s4LjOAxBT"
      },
      "source": [
        "##### Importing Pandas, Numpy, Matplotlib, Seaborn and Warings Library."
      ]
    },
    {
      "cell_type": "code",
      "execution_count": 1,
      "metadata": {
        "id": "fhHHy-8P9R7B"
      },
      "outputs": [],
      "source": [
        "# Basic Import\n",
        "import numpy as np\n",
        "import pandas as pd\n",
        "import matplotlib.pyplot as plt\n",
        "import seaborn as sns\n",
        "from sklearn.preprocessing import LabelEncoder\n",
        "# Modelling\n",
        "from sklearn.metrics import accuracy_score, precision_score, recall_score, f1_score, roc_curve, auc, confusion_matrix\n",
        "from sklearn.model_selection import train_test_split\n",
        "from sklearn.ensemble import RandomForestClassifier\n",
        "from sklearn.tree import DecisionTreeClassifier\n",
        "from sklearn.naive_bayes import GaussianNB\n",
        "from sklearn.svm import SVC\n",
        "from sklearn.ensemble import AdaBoostClassifier\n",
        "from sklearn.model_selection import GridSearchCV\n",
        "from sklearn.linear_model import LogisticRegression\n",
        "from sklearn.ensemble import RandomForestClassifier, AdaBoostClassifier\n",
        "from sklearn.neighbors import KNeighborsClassifier\n",
        "from xgboost import XGBClassifier"
      ]
    },
    {
      "cell_type": "markdown",
      "metadata": {
        "id": "TX1Zk7-pKt7M"
      },
      "source": [
        "### Import the CSV Data as Pandas DataFrame"
      ]
    },
    {
      "cell_type": "code",
      "execution_count": 2,
      "metadata": {
        "id": "SctRi_M_DNGq"
      },
      "outputs": [],
      "source": [
        "df = pd.read_csv('data/Training_data.csv',index_col=0)"
      ]
    },
    {
      "cell_type": "markdown",
      "metadata": {
        "id": "iNRGho31NQbm"
      },
      "source": [
        "### Show Top 5 Records"
      ]
    },
    {
      "cell_type": "code",
      "execution_count": 3,
      "metadata": {
        "colab": {
          "base_uri": "https://localhost:8080/",
          "height": 206
        },
        "id": "VTN70bdANUSU",
        "outputId": "d22a4bc4-e99c-4848-8c91-d54170954452"
      },
      "outputs": [
        {
          "data": {
            "text/html": [
              "<div>\n",
              "<style scoped>\n",
              "    .dataframe tbody tr th:only-of-type {\n",
              "        vertical-align: middle;\n",
              "    }\n",
              "\n",
              "    .dataframe tbody tr th {\n",
              "        vertical-align: top;\n",
              "    }\n",
              "\n",
              "    .dataframe thead th {\n",
              "        text-align: right;\n",
              "    }\n",
              "</style>\n",
              "<table border=\"1\" class=\"dataframe\">\n",
              "  <thead>\n",
              "    <tr style=\"text-align: right;\">\n",
              "      <th></th>\n",
              "      <th>Cough_symptoms</th>\n",
              "      <th>Fever</th>\n",
              "      <th>Sore_throat</th>\n",
              "      <th>Shortness_of_breath</th>\n",
              "      <th>Headache</th>\n",
              "      <th>Corona</th>\n",
              "      <th>Age_60_above</th>\n",
              "      <th>Sex</th>\n",
              "      <th>Known_contact</th>\n",
              "    </tr>\n",
              "  </thead>\n",
              "  <tbody>\n",
              "    <tr>\n",
              "      <th>0</th>\n",
              "      <td>True</td>\n",
              "      <td>False</td>\n",
              "      <td>True</td>\n",
              "      <td>False</td>\n",
              "      <td>False</td>\n",
              "      <td>0</td>\n",
              "      <td>Unspecified</td>\n",
              "      <td>Unspecified</td>\n",
              "      <td>Abroad</td>\n",
              "    </tr>\n",
              "    <tr>\n",
              "      <th>1</th>\n",
              "      <td>False</td>\n",
              "      <td>True</td>\n",
              "      <td>False</td>\n",
              "      <td>False</td>\n",
              "      <td>False</td>\n",
              "      <td>1</td>\n",
              "      <td>Unspecified</td>\n",
              "      <td>Unspecified</td>\n",
              "      <td>Abroad</td>\n",
              "    </tr>\n",
              "    <tr>\n",
              "      <th>2</th>\n",
              "      <td>False</td>\n",
              "      <td>True</td>\n",
              "      <td>False</td>\n",
              "      <td>False</td>\n",
              "      <td>False</td>\n",
              "      <td>1</td>\n",
              "      <td>Unspecified</td>\n",
              "      <td>Unspecified</td>\n",
              "      <td>Abroad</td>\n",
              "    </tr>\n",
              "    <tr>\n",
              "      <th>3</th>\n",
              "      <td>True</td>\n",
              "      <td>False</td>\n",
              "      <td>False</td>\n",
              "      <td>False</td>\n",
              "      <td>False</td>\n",
              "      <td>0</td>\n",
              "      <td>Unspecified</td>\n",
              "      <td>Unspecified</td>\n",
              "      <td>Abroad</td>\n",
              "    </tr>\n",
              "    <tr>\n",
              "      <th>4</th>\n",
              "      <td>True</td>\n",
              "      <td>False</td>\n",
              "      <td>False</td>\n",
              "      <td>False</td>\n",
              "      <td>False</td>\n",
              "      <td>0</td>\n",
              "      <td>Unspecified</td>\n",
              "      <td>Unspecified</td>\n",
              "      <td>Contact with confirmed</td>\n",
              "    </tr>\n",
              "  </tbody>\n",
              "</table>\n",
              "</div>"
            ],
            "text/plain": [
              "   Cough_symptoms  Fever  Sore_throat  Shortness_of_breath  Headache  Corona  \\\n",
              "0            True  False         True                False     False       0   \n",
              "1           False   True        False                False     False       1   \n",
              "2           False   True        False                False     False       1   \n",
              "3            True  False        False                False     False       0   \n",
              "4            True  False        False                False     False       0   \n",
              "\n",
              "  Age_60_above          Sex           Known_contact  \n",
              "0  Unspecified  Unspecified                  Abroad  \n",
              "1  Unspecified  Unspecified                  Abroad  \n",
              "2  Unspecified  Unspecified                  Abroad  \n",
              "3  Unspecified  Unspecified                  Abroad  \n",
              "4  Unspecified  Unspecified  Contact with confirmed  "
            ]
          },
          "execution_count": 3,
          "metadata": {},
          "output_type": "execute_result"
        }
      ],
      "source": [
        "df.head()"
      ]
    },
    {
      "cell_type": "code",
      "execution_count": 4,
      "metadata": {
        "id": "g0NxPiBcUMD-"
      },
      "outputs": [],
      "source": [
        "X = df.drop(['Corona','Sex'], axis =1)\n",
        "y= df['Corona']"
      ]
    },
    {
      "cell_type": "code",
      "execution_count": 5,
      "metadata": {
        "id": "JPryc1btCmis"
      },
      "outputs": [],
      "source": [
        "# Perfoming LabelEncoding\n",
        "\n",
        "X[['Cough_symptoms','Fever','Sore_throat','Shortness_of_breath','Headache']] =\\\n",
        "X[['Cough_symptoms','Fever','Sore_throat','Shortness_of_breath','Headache']].apply(LabelEncoder().fit_transform)"
      ]
    },
    {
      "cell_type": "code",
      "execution_count": 6,
      "metadata": {
        "id": "IMZiZqk9EPve"
      },
      "outputs": [],
      "source": [
        "# Defining one_hot_encoder : mostly used for nominal variable encoding.\n",
        "def one_hot_encode_column(data, column_name):\n",
        "    encoded_column = pd.get_dummies(data[column_name], prefix=column_name, drop_first=True)\n",
        "    return encoded_column"
      ]
    },
    {
      "cell_type": "code",
      "execution_count": 7,
      "metadata": {
        "id": "RtQJMEJ8IWWO"
      },
      "outputs": [],
      "source": [
        "# Applying One-hot-encoder to all the nominal varible.\n",
        "encoded_Age_60_above = one_hot_encode_column(X, 'Age_60_above')\n",
        "encoded_Known_contact = one_hot_encode_column(X, 'Known_contact')"
      ]
    },
    {
      "cell_type": "code",
      "execution_count": 8,
      "metadata": {
        "id": "4VRzo73LLs09"
      },
      "outputs": [],
      "source": [
        "# Concatenating all the encoded variables with the original dataframe.\n",
        "X = pd.concat([X, encoded_Age_60_above, encoded_Known_contact],axis=1)"
      ]
    },
    {
      "cell_type": "code",
      "execution_count": 9,
      "metadata": {
        "colab": {
          "base_uri": "https://localhost:8080/",
          "height": 261
        },
        "id": "P2OOHvCgMiS5",
        "outputId": "b1ff64e6-b806-46c6-9fce-1c3899adb601"
      },
      "outputs": [
        {
          "data": {
            "text/html": [
              "<div>\n",
              "<style scoped>\n",
              "    .dataframe tbody tr th:only-of-type {\n",
              "        vertical-align: middle;\n",
              "    }\n",
              "\n",
              "    .dataframe tbody tr th {\n",
              "        vertical-align: top;\n",
              "    }\n",
              "\n",
              "    .dataframe thead th {\n",
              "        text-align: right;\n",
              "    }\n",
              "</style>\n",
              "<table border=\"1\" class=\"dataframe\">\n",
              "  <thead>\n",
              "    <tr style=\"text-align: right;\">\n",
              "      <th></th>\n",
              "      <th>Cough_symptoms</th>\n",
              "      <th>Fever</th>\n",
              "      <th>Sore_throat</th>\n",
              "      <th>Shortness_of_breath</th>\n",
              "      <th>Headache</th>\n",
              "      <th>Age_60_above</th>\n",
              "      <th>Known_contact</th>\n",
              "      <th>Age_60_above_Unspecified</th>\n",
              "      <th>Age_60_above_Yes</th>\n",
              "      <th>Known_contact_Contact with confirmed</th>\n",
              "      <th>Known_contact_Other</th>\n",
              "    </tr>\n",
              "  </thead>\n",
              "  <tbody>\n",
              "    <tr>\n",
              "      <th>0</th>\n",
              "      <td>1</td>\n",
              "      <td>0</td>\n",
              "      <td>1</td>\n",
              "      <td>0</td>\n",
              "      <td>0</td>\n",
              "      <td>Unspecified</td>\n",
              "      <td>Abroad</td>\n",
              "      <td>True</td>\n",
              "      <td>False</td>\n",
              "      <td>False</td>\n",
              "      <td>False</td>\n",
              "    </tr>\n",
              "    <tr>\n",
              "      <th>1</th>\n",
              "      <td>0</td>\n",
              "      <td>1</td>\n",
              "      <td>0</td>\n",
              "      <td>0</td>\n",
              "      <td>0</td>\n",
              "      <td>Unspecified</td>\n",
              "      <td>Abroad</td>\n",
              "      <td>True</td>\n",
              "      <td>False</td>\n",
              "      <td>False</td>\n",
              "      <td>False</td>\n",
              "    </tr>\n",
              "    <tr>\n",
              "      <th>2</th>\n",
              "      <td>0</td>\n",
              "      <td>1</td>\n",
              "      <td>0</td>\n",
              "      <td>0</td>\n",
              "      <td>0</td>\n",
              "      <td>Unspecified</td>\n",
              "      <td>Abroad</td>\n",
              "      <td>True</td>\n",
              "      <td>False</td>\n",
              "      <td>False</td>\n",
              "      <td>False</td>\n",
              "    </tr>\n",
              "    <tr>\n",
              "      <th>3</th>\n",
              "      <td>1</td>\n",
              "      <td>0</td>\n",
              "      <td>0</td>\n",
              "      <td>0</td>\n",
              "      <td>0</td>\n",
              "      <td>Unspecified</td>\n",
              "      <td>Abroad</td>\n",
              "      <td>True</td>\n",
              "      <td>False</td>\n",
              "      <td>False</td>\n",
              "      <td>False</td>\n",
              "    </tr>\n",
              "    <tr>\n",
              "      <th>4</th>\n",
              "      <td>1</td>\n",
              "      <td>0</td>\n",
              "      <td>0</td>\n",
              "      <td>0</td>\n",
              "      <td>0</td>\n",
              "      <td>Unspecified</td>\n",
              "      <td>Contact with confirmed</td>\n",
              "      <td>True</td>\n",
              "      <td>False</td>\n",
              "      <td>True</td>\n",
              "      <td>False</td>\n",
              "    </tr>\n",
              "  </tbody>\n",
              "</table>\n",
              "</div>"
            ],
            "text/plain": [
              "   Cough_symptoms  Fever  Sore_throat  Shortness_of_breath  Headache  \\\n",
              "0               1      0            1                    0         0   \n",
              "1               0      1            0                    0         0   \n",
              "2               0      1            0                    0         0   \n",
              "3               1      0            0                    0         0   \n",
              "4               1      0            0                    0         0   \n",
              "\n",
              "  Age_60_above           Known_contact  Age_60_above_Unspecified  \\\n",
              "0  Unspecified                  Abroad                      True   \n",
              "1  Unspecified                  Abroad                      True   \n",
              "2  Unspecified                  Abroad                      True   \n",
              "3  Unspecified                  Abroad                      True   \n",
              "4  Unspecified  Contact with confirmed                      True   \n",
              "\n",
              "   Age_60_above_Yes  Known_contact_Contact with confirmed  Known_contact_Other  \n",
              "0             False                                 False                False  \n",
              "1             False                                 False                False  \n",
              "2             False                                 False                False  \n",
              "3             False                                 False                False  \n",
              "4             False                                  True                False  "
            ]
          },
          "execution_count": 9,
          "metadata": {},
          "output_type": "execute_result"
        }
      ],
      "source": [
        "X.head()"
      ]
    },
    {
      "cell_type": "code",
      "execution_count": 10,
      "metadata": {
        "colab": {
          "base_uri": "https://localhost:8080/",
          "height": 206
        },
        "id": "HlYdGvOgMool",
        "outputId": "39d137dc-4374-4b65-f41e-7dc80f564343"
      },
      "outputs": [
        {
          "data": {
            "text/html": [
              "<div>\n",
              "<style scoped>\n",
              "    .dataframe tbody tr th:only-of-type {\n",
              "        vertical-align: middle;\n",
              "    }\n",
              "\n",
              "    .dataframe tbody tr th {\n",
              "        vertical-align: top;\n",
              "    }\n",
              "\n",
              "    .dataframe thead th {\n",
              "        text-align: right;\n",
              "    }\n",
              "</style>\n",
              "<table border=\"1\" class=\"dataframe\">\n",
              "  <thead>\n",
              "    <tr style=\"text-align: right;\">\n",
              "      <th></th>\n",
              "      <th>Cough_symptoms</th>\n",
              "      <th>Fever</th>\n",
              "      <th>Sore_throat</th>\n",
              "      <th>Shortness_of_breath</th>\n",
              "      <th>Headache</th>\n",
              "      <th>Age_60_above_Yes</th>\n",
              "      <th>Known_contact_Contact with confirmed</th>\n",
              "    </tr>\n",
              "  </thead>\n",
              "  <tbody>\n",
              "    <tr>\n",
              "      <th>0</th>\n",
              "      <td>1</td>\n",
              "      <td>0</td>\n",
              "      <td>1</td>\n",
              "      <td>0</td>\n",
              "      <td>0</td>\n",
              "      <td>False</td>\n",
              "      <td>False</td>\n",
              "    </tr>\n",
              "    <tr>\n",
              "      <th>1</th>\n",
              "      <td>0</td>\n",
              "      <td>1</td>\n",
              "      <td>0</td>\n",
              "      <td>0</td>\n",
              "      <td>0</td>\n",
              "      <td>False</td>\n",
              "      <td>False</td>\n",
              "    </tr>\n",
              "    <tr>\n",
              "      <th>2</th>\n",
              "      <td>0</td>\n",
              "      <td>1</td>\n",
              "      <td>0</td>\n",
              "      <td>0</td>\n",
              "      <td>0</td>\n",
              "      <td>False</td>\n",
              "      <td>False</td>\n",
              "    </tr>\n",
              "    <tr>\n",
              "      <th>3</th>\n",
              "      <td>1</td>\n",
              "      <td>0</td>\n",
              "      <td>0</td>\n",
              "      <td>0</td>\n",
              "      <td>0</td>\n",
              "      <td>False</td>\n",
              "      <td>False</td>\n",
              "    </tr>\n",
              "    <tr>\n",
              "      <th>4</th>\n",
              "      <td>1</td>\n",
              "      <td>0</td>\n",
              "      <td>0</td>\n",
              "      <td>0</td>\n",
              "      <td>0</td>\n",
              "      <td>False</td>\n",
              "      <td>True</td>\n",
              "    </tr>\n",
              "  </tbody>\n",
              "</table>\n",
              "</div>"
            ],
            "text/plain": [
              "   Cough_symptoms  Fever  Sore_throat  Shortness_of_breath  Headache  \\\n",
              "0               1      0            1                    0         0   \n",
              "1               0      1            0                    0         0   \n",
              "2               0      1            0                    0         0   \n",
              "3               1      0            0                    0         0   \n",
              "4               1      0            0                    0         0   \n",
              "\n",
              "   Age_60_above_Yes  Known_contact_Contact with confirmed  \n",
              "0             False                                 False  \n",
              "1             False                                 False  \n",
              "2             False                                 False  \n",
              "3             False                                 False  \n",
              "4             False                                  True  "
            ]
          },
          "execution_count": 10,
          "metadata": {},
          "output_type": "execute_result"
        }
      ],
      "source": [
        "# Dropping the previous columns which were encoded.\n",
        "X.drop([ 'Age_60_above', 'Known_contact', 'Known_contact_Other','Age_60_above_Unspecified'],axis=1,inplace=True)\n",
        "X.head()"
      ]
    },
    {
      "cell_type": "code",
      "execution_count": 11,
      "metadata": {
        "id": "Lqo9yRFCIwtj"
      },
      "outputs": [],
      "source": [
        "# Mapping the target column\n",
        "target_mapping = {\"positive\": 1, \"negative\": 0}\n",
        "df['Corona'] = df['Corona'].map(target_mapping)"
      ]
    },
    {
      "cell_type": "code",
      "execution_count": 12,
      "metadata": {
        "colab": {
          "base_uri": "https://localhost:8080/"
        },
        "id": "E6ZY-gWSHxRM",
        "outputId": "2e63da5d-4b1d-4cb1-b06d-d7296e4cbc94"
      },
      "outputs": [
        {
          "data": {
            "text/plain": [
              "((219761, 7), (54941, 7))"
            ]
          },
          "execution_count": 12,
          "metadata": {},
          "output_type": "execute_result"
        }
      ],
      "source": [
        "# separate dataset into train and test\n",
        "X_train, X_test, y_train, y_test = train_test_split(X,y,test_size=0.2,random_state=42)\n",
        "X_train.shape, X_test.shape"
      ]
    },
    {
      "cell_type": "code",
      "execution_count": 13,
      "metadata": {
        "colab": {
          "base_uri": "https://localhost:8080/"
        },
        "id": "0DkenAI_JIM7",
        "outputId": "0e75632d-a08f-47e3-d6f6-d5eeca8acda0"
      },
      "outputs": [
        {
          "name": "stdout",
          "output_type": "stream",
          "text": [
            "Logistic Regression\n",
            "Model performance for Training set\n",
            "- Accuracy: 0.9664\n",
            "- Precision: 0.9641\n",
            "- Recall: 0.9664\n",
            "- F1 Score: 0.9650\n",
            "----------------------------------\n",
            "Model performance for Test set\n",
            "- Accuracy: 0.9666\n",
            "- Precision: 0.9645\n",
            "- Recall: 0.9666\n",
            "- F1 Score: 0.9653\n",
            "Confusion Matrix for Test set:\n",
            "[[51326   694]\n",
            " [ 1142  1779]]\n",
            "False Negatives for Test set: 1142\n",
            "===================================\n",
            "\n",
            "\n",
            "Random Forest Classifier\n",
            "Model performance for Training set\n",
            "- Accuracy: 0.9677\n",
            "- Precision: 0.9646\n",
            "- Recall: 0.9677\n",
            "- F1 Score: 0.9648\n",
            "----------------------------------\n",
            "Model performance for Test set\n",
            "- Accuracy: 0.9682\n",
            "- Precision: 0.9652\n",
            "- Recall: 0.9682\n",
            "- F1 Score: 0.9655\n",
            "Confusion Matrix for Test set:\n",
            "[[51590   430]\n",
            " [ 1317  1604]]\n",
            "False Negatives for Test set: 1317\n",
            "===================================\n",
            "\n",
            "\n",
            "K-Neighbors Classifier\n",
            "Model performance for Training set\n",
            "- Accuracy: 0.9649\n",
            "- Precision: 0.9616\n",
            "- Recall: 0.9649\n",
            "- F1 Score: 0.9625\n",
            "----------------------------------\n",
            "Model performance for Test set\n",
            "- Accuracy: 0.9653\n",
            "- Precision: 0.9621\n",
            "- Recall: 0.9653\n",
            "- F1 Score: 0.9630\n",
            "Confusion Matrix for Test set:\n",
            "[[51423   597]\n",
            " [ 1309  1612]]\n",
            "False Negatives for Test set: 1309\n",
            "===================================\n",
            "\n",
            "\n",
            "Decision Tree Classifier\n",
            "Model performance for Training set\n",
            "- Accuracy: 0.9677\n",
            "- Precision: 0.9646\n",
            "- Recall: 0.9677\n",
            "- F1 Score: 0.9648\n",
            "----------------------------------\n",
            "Model performance for Test set\n",
            "- Accuracy: 0.9682\n",
            "- Precision: 0.9652\n",
            "- Recall: 0.9682\n",
            "- F1 Score: 0.9655\n",
            "Confusion Matrix for Test set:\n",
            "[[51590   430]\n",
            " [ 1317  1604]]\n",
            "False Negatives for Test set: 1317\n",
            "===================================\n",
            "\n",
            "\n",
            "SVC\n",
            "Model performance for Training set\n",
            "- Accuracy: 0.9677\n",
            "- Precision: 0.9646\n",
            "- Recall: 0.9677\n",
            "- F1 Score: 0.9648\n",
            "----------------------------------\n",
            "Model performance for Test set\n",
            "- Accuracy: 0.9682\n",
            "- Precision: 0.9652\n",
            "- Recall: 0.9682\n",
            "- F1 Score: 0.9655\n",
            "Confusion Matrix for Test set:\n",
            "[[51590   430]\n",
            " [ 1317  1604]]\n",
            "False Negatives for Test set: 1317\n",
            "===================================\n",
            "\n",
            "\n",
            "Gaussian Naive Bayes\n",
            "Model performance for Training set\n",
            "- Accuracy: 0.9665\n",
            "- Precision: 0.9648\n",
            "- Recall: 0.9665\n",
            "- F1 Score: 0.9655\n",
            "----------------------------------\n",
            "Model performance for Test set\n",
            "- Accuracy: 0.9666\n",
            "- Precision: 0.9651\n",
            "- Recall: 0.9666\n",
            "- F1 Score: 0.9657\n",
            "Confusion Matrix for Test set:\n",
            "[[51259   761]\n",
            " [ 1072  1849]]\n",
            "False Negatives for Test set: 1072\n",
            "===================================\n",
            "\n",
            "\n",
            "AdaBoost\n",
            "Model performance for Training set\n",
            "- Accuracy: 0.9591\n",
            "- Precision: 0.9531\n",
            "- Recall: 0.9591\n",
            "- F1 Score: 0.9537\n",
            "----------------------------------\n",
            "Model performance for Test set\n",
            "- Accuracy: 0.9592\n",
            "- Precision: 0.9533\n",
            "- Recall: 0.9592\n",
            "- F1 Score: 0.9542\n",
            "Confusion Matrix for Test set:\n",
            "[[51503   517]\n",
            " [ 1723  1198]]\n",
            "False Negatives for Test set: 1723\n",
            "===================================\n",
            "\n",
            "\n",
            "XGBoost\n",
            "Model performance for Training set\n",
            "- Accuracy: 0.9677\n",
            "- Precision: 0.9646\n",
            "- Recall: 0.9677\n",
            "- F1 Score: 0.9648\n",
            "----------------------------------\n",
            "Model performance for Test set\n",
            "- Accuracy: 0.9682\n",
            "- Precision: 0.9652\n",
            "- Recall: 0.9682\n",
            "- F1 Score: 0.9655\n",
            "Confusion Matrix for Test set:\n",
            "[[51590   430]\n",
            " [ 1317  1604]]\n",
            "False Negatives for Test set: 1317\n",
            "===================================\n",
            "\n",
            "\n"
          ]
        }
      ],
      "source": [
        "def evaluate_classification_model(true, predicted):\n",
        "    accuracy = accuracy_score(true, predicted)\n",
        "    precision = precision_score(true, predicted, average='weighted')\n",
        "    recall = recall_score(true, predicted, average='weighted')\n",
        "    f1 = f1_score(true, predicted, average='weighted')\n",
        "    cm = confusion_matrix(true, predicted)\n",
        "    tn, fp, fn, tp = cm.ravel()\n",
        "    return accuracy, precision, recall, f1, cm, fn\n",
        "\n",
        "# Define classification models\n",
        "models = {\n",
        "    \"Logistic Regression\": LogisticRegression(),\n",
        "    \"Random Forest Classifier\": RandomForestClassifier(),\n",
        "    \"K-Neighbors Classifier\": KNeighborsClassifier(),\n",
        "    \"Decision Tree Classifier\": DecisionTreeClassifier(),\n",
        "    \"SVC\": SVC(),\n",
        "    \"Gaussian Naive Bayes\": GaussianNB(),\n",
        "    \"AdaBoost\": AdaBoostClassifier(),\n",
        "    \"XGBoost\": XGBClassifier(),\n",
        "}\n",
        "\n",
        "model_list = []\n",
        "accuracy_list = []\n",
        "precision_list = []\n",
        "recall_list = []\n",
        "f1_list = []\n",
        "confusion_matrices = []\n",
        "false_negatives = []\n",
        "\n",
        "for model_name, model in models.items():\n",
        "    # Train the model\n",
        "    model.fit(X_train, y_train)\n",
        "\n",
        "    # Make predictions\n",
        "    y_train_pred = model.predict(X_train)\n",
        "    y_test_pred = model.predict(X_test)\n",
        "\n",
        "    # Evaluate Train and Test dataset\n",
        "    accuracy_train, precision_train, recall_train, f1_train, _, fn_train = evaluate_classification_model(y_train, y_train_pred)\n",
        "    accuracy_test, precision_test, recall_test, f1_test, cm_test, fn_test = evaluate_classification_model(y_test, y_test_pred)\n",
        "\n",
        "    print(model_name)\n",
        "    model_list.append(model_name)\n",
        "\n",
        "    print('Model performance for Training set')\n",
        "    print(f\"- Accuracy: {accuracy_train:.4f}\")\n",
        "    print(f\"- Precision: {precision_train:.4f}\")\n",
        "    print(f\"- Recall: {recall_train:.4f}\")\n",
        "    print(f\"- F1 Score: {f1_train:.4f}\")\n",
        "\n",
        "    print('----------------------------------')\n",
        "\n",
        "    print('Model performance for Test set')\n",
        "    print(f\"- Accuracy: {accuracy_test:.4f}\")\n",
        "    print(f\"- Precision: {precision_test:.4f}\")\n",
        "    print(f\"- Recall: {recall_test:.4f}\")\n",
        "    print(f\"- F1 Score: {f1_test:.4f}\")\n",
        "\n",
        "    print('Confusion Matrix for Test set:')\n",
        "    print(cm_test)\n",
        "\n",
        "    print('False Negatives for Test set:', fn_test)\n",
        "\n",
        "    accuracy_list.append(accuracy_test)\n",
        "    precision_list.append(precision_test)\n",
        "    recall_list.append(recall_test)\n",
        "    f1_list.append(f1_test)\n",
        "    confusion_matrices.append(cm_test)\n",
        "    false_negatives.append(fn_test)\n",
        "\n",
        "    print('='*35)\n",
        "    print('\\n')\n"
      ]
    },
    {
      "cell_type": "code",
      "execution_count": 14,
      "metadata": {
        "colab": {
          "base_uri": "https://localhost:8080/",
          "height": 300
        },
        "id": "p_xyNPdFKZgf",
        "outputId": "7af59d00-73a9-49f3-c5d3-a83197e39571"
      },
      "outputs": [
        {
          "data": {
            "text/html": [
              "<div>\n",
              "<style scoped>\n",
              "    .dataframe tbody tr th:only-of-type {\n",
              "        vertical-align: middle;\n",
              "    }\n",
              "\n",
              "    .dataframe tbody tr th {\n",
              "        vertical-align: top;\n",
              "    }\n",
              "\n",
              "    .dataframe thead th {\n",
              "        text-align: right;\n",
              "    }\n",
              "</style>\n",
              "<table border=\"1\" class=\"dataframe\">\n",
              "  <thead>\n",
              "    <tr style=\"text-align: right;\">\n",
              "      <th></th>\n",
              "      <th>Model Name</th>\n",
              "      <th>F1_Score</th>\n",
              "    </tr>\n",
              "  </thead>\n",
              "  <tbody>\n",
              "    <tr>\n",
              "      <th>5</th>\n",
              "      <td>Gaussian Naive Bayes</td>\n",
              "      <td>0.965749</td>\n",
              "    </tr>\n",
              "    <tr>\n",
              "      <th>1</th>\n",
              "      <td>Random Forest Classifier</td>\n",
              "      <td>0.965491</td>\n",
              "    </tr>\n",
              "    <tr>\n",
              "      <th>3</th>\n",
              "      <td>Decision Tree Classifier</td>\n",
              "      <td>0.965491</td>\n",
              "    </tr>\n",
              "    <tr>\n",
              "      <th>4</th>\n",
              "      <td>SVC</td>\n",
              "      <td>0.965491</td>\n",
              "    </tr>\n",
              "    <tr>\n",
              "      <th>7</th>\n",
              "      <td>XGBoost</td>\n",
              "      <td>0.965491</td>\n",
              "    </tr>\n",
              "    <tr>\n",
              "      <th>0</th>\n",
              "      <td>Logistic Regression</td>\n",
              "      <td>0.965266</td>\n",
              "    </tr>\n",
              "    <tr>\n",
              "      <th>2</th>\n",
              "      <td>K-Neighbors Classifier</td>\n",
              "      <td>0.963019</td>\n",
              "    </tr>\n",
              "    <tr>\n",
              "      <th>6</th>\n",
              "      <td>AdaBoost</td>\n",
              "      <td>0.954160</td>\n",
              "    </tr>\n",
              "  </tbody>\n",
              "</table>\n",
              "</div>"
            ],
            "text/plain": [
              "                 Model Name  F1_Score\n",
              "5      Gaussian Naive Bayes  0.965749\n",
              "1  Random Forest Classifier  0.965491\n",
              "3  Decision Tree Classifier  0.965491\n",
              "4                       SVC  0.965491\n",
              "7                   XGBoost  0.965491\n",
              "0       Logistic Regression  0.965266\n",
              "2    K-Neighbors Classifier  0.963019\n",
              "6                  AdaBoost  0.954160"
            ]
          },
          "execution_count": 14,
          "metadata": {},
          "output_type": "execute_result"
        }
      ],
      "source": [
        "pd.DataFrame(list(zip(model_list, f1_list)), columns=['Model Name', 'F1_Score']).sort_values(by=[\"F1_Score\"], ascending=False)"
      ]
    },
    {
      "cell_type": "code",
      "execution_count": 15,
      "metadata": {
        "colab": {
          "base_uri": "https://localhost:8080/",
          "height": 300
        },
        "id": "BTik7s-EZrEX",
        "outputId": "6c65654a-19c7-45b3-910c-50f7a2cd8150"
      },
      "outputs": [
        {
          "data": {
            "text/html": [
              "<div>\n",
              "<style scoped>\n",
              "    .dataframe tbody tr th:only-of-type {\n",
              "        vertical-align: middle;\n",
              "    }\n",
              "\n",
              "    .dataframe tbody tr th {\n",
              "        vertical-align: top;\n",
              "    }\n",
              "\n",
              "    .dataframe thead th {\n",
              "        text-align: right;\n",
              "    }\n",
              "</style>\n",
              "<table border=\"1\" class=\"dataframe\">\n",
              "  <thead>\n",
              "    <tr style=\"text-align: right;\">\n",
              "      <th></th>\n",
              "      <th>Model Name</th>\n",
              "      <th>False_Negatives</th>\n",
              "    </tr>\n",
              "  </thead>\n",
              "  <tbody>\n",
              "    <tr>\n",
              "      <th>5</th>\n",
              "      <td>Gaussian Naive Bayes</td>\n",
              "      <td>1072</td>\n",
              "    </tr>\n",
              "    <tr>\n",
              "      <th>0</th>\n",
              "      <td>Logistic Regression</td>\n",
              "      <td>1142</td>\n",
              "    </tr>\n",
              "    <tr>\n",
              "      <th>2</th>\n",
              "      <td>K-Neighbors Classifier</td>\n",
              "      <td>1309</td>\n",
              "    </tr>\n",
              "    <tr>\n",
              "      <th>1</th>\n",
              "      <td>Random Forest Classifier</td>\n",
              "      <td>1317</td>\n",
              "    </tr>\n",
              "    <tr>\n",
              "      <th>3</th>\n",
              "      <td>Decision Tree Classifier</td>\n",
              "      <td>1317</td>\n",
              "    </tr>\n",
              "    <tr>\n",
              "      <th>4</th>\n",
              "      <td>SVC</td>\n",
              "      <td>1317</td>\n",
              "    </tr>\n",
              "    <tr>\n",
              "      <th>7</th>\n",
              "      <td>XGBoost</td>\n",
              "      <td>1317</td>\n",
              "    </tr>\n",
              "    <tr>\n",
              "      <th>6</th>\n",
              "      <td>AdaBoost</td>\n",
              "      <td>1723</td>\n",
              "    </tr>\n",
              "  </tbody>\n",
              "</table>\n",
              "</div>"
            ],
            "text/plain": [
              "                 Model Name  False_Negatives\n",
              "5      Gaussian Naive Bayes             1072\n",
              "0       Logistic Regression             1142\n",
              "2    K-Neighbors Classifier             1309\n",
              "1  Random Forest Classifier             1317\n",
              "3  Decision Tree Classifier             1317\n",
              "4                       SVC             1317\n",
              "7                   XGBoost             1317\n",
              "6                  AdaBoost             1723"
            ]
          },
          "execution_count": 15,
          "metadata": {},
          "output_type": "execute_result"
        }
      ],
      "source": [
        "pd.DataFrame(list(zip(model_list, false_negatives)), columns=['Model Name', 'False_Negatives']).sort_values(by=[\"False_Negatives\"])"
      ]
    },
    {
      "cell_type": "markdown",
      "metadata": {
        "id": "mWZ7JvY3d-yU"
      },
      "source": [
        "### Gaussian NB"
      ]
    },
    {
      "cell_type": "code",
      "execution_count": 16,
      "metadata": {
        "id": "mLDFFY18aKbo"
      },
      "outputs": [],
      "source": [
        "gnb = GaussianNB()\n",
        "gnb.fit(X_train, y_train)\n",
        "\n",
        "y_score = gnb.predict_proba(X_test)[:, 1]\n",
        "\n",
        "# Compute ROC curve\n",
        "fpr, tpr, _ = roc_curve(y_test, y_score)\n",
        "\n",
        "roc_auc = auc(fpr, tpr)"
      ]
    },
    {
      "cell_type": "code",
      "execution_count": 17,
      "metadata": {
        "colab": {
          "base_uri": "https://localhost:8080/",
          "height": 564
        },
        "id": "xv2ofk-vdPyl",
        "outputId": "b3df7daf-be04-40d4-8b30-dca162acad62"
      },
      "outputs": [
        {
          "data": {
            "image/png": "[encoded data removed]",
            "text/plain": [
              "<Figure size 800x600 with 1 Axes>"
            ]
          },
          "metadata": {},
          "output_type": "display_data"
        }
      ],
      "source": [
        "plt.figure(figsize=(8, 6))\n",
        "plt.plot(fpr, tpr, color='darkorange', lw=2, label=f'Gaussian Naive Bayes (AUC = {roc_auc:.2f})')\n",
        "plt.plot([0, 1], [0, 1], color='navy', lw=2, linestyle='--')\n",
        "plt.xlim([0.0, 1.0])\n",
        "plt.ylim([0.0, 1.05])\n",
        "plt.xlabel('False Positive Rate')\n",
        "plt.ylabel('True Positive Rate')\n",
        "plt.title('ROC Curve for Gaussian Naive Bayes')\n",
        "plt.legend(loc='lower right')\n",
        "plt.show()"
      ]
    },
    {
      "cell_type": "markdown",
      "metadata": {
        "id": "NgkaEFPYd4Ag"
      },
      "source": [
        "An AUC value of 0.88 (or 88%) suggests that the model is effective at distinguishing between the two classes, with a high probability of ranking a randomly chosen positive instance higher than a randomly chosen negative instance."
      ]
    },
    {
      "cell_type": "code",
      "execution_count": null,
      "metadata": {
        "id": "b3bE0nsIlXZi"
      },
      "outputs": [],
      "source": []
    }
  ],
  "metadata": {
    "colab": {
      "provenance": []
    },
    "kernelspec": {
      "display_name": "Python 3",
      "name": "python3"
    },
    "language_info": {
      "codemirror_mode": {
        "name": "ipython",
        "version": 3
      },
      "file_extension": ".py",
      "mimetype": "text/x-python",
      "name": "python",
      "nbconvert_exporter": "python",
      "pygments_lexer": "ipython3",
      "version": "3.11.4"
    }
  },
  "nbformat": 4,
  "nbformat_minor": 0
}
